{
    "cells": [
        {
            "cell_type": "markdown",
            "metadata": {
                "collapsed": true
            },
            "source": "## Finding Top Venues around the neighborhoods of S\u00e3o Paulo"
        },
        {
            "cell_type": "markdown",
            "metadata": {},
            "source": "### Introduction "
        },
        {
            "cell_type": "markdown",
            "metadata": {},
            "source": "Sao Paulo city is the is the cultural and economic center of Brazil. It is also the largest city in South America and in the southern hemisphere. That\u2019s why finding reasonable accommodation in S\u00e3o Paulo can be daunting.\n\nBecause of that characteristics, Sao Paulo receives a lot of tourists, business men and women, studants, backpackers and etc. With all the possibilities, a question all these people ask themselves before going to Sao Paulo is: where to stay? If you check online, there are several web sites and articles about the cities neigborhoods, the pro and cons about each one of them, but there is so much information that is really hard to make a decision, and once the decision is made, is really hardo to decide what to do during the staying in the city.\n\nThinking about that, a plataform where you can retrieve the main venues around each neighborhood in the city can be very helpful for people who are already in the city and don't know exactly what to do in its surroundings, and for people who are attempting to stay a while in the metropolis."
        },
        {
            "cell_type": "markdown",
            "metadata": {},
            "source": "### Data"
        },
        {
            "cell_type": "markdown",
            "metadata": {},
            "source": "To solve this particular issue, a plataform can be built using data from Sao Paulo neighborhoods (latitude and longitude data) and the Foursquare API. First, we need to know what neighborhood is the target for the query. After that, using Google we can easily find the neighborhoods latitude and longitude data.\n\nWith the latitude and longitude data from a particular place, the plataform will automatically find the place in Foursquare, build a dataframe with the venues, type, latitude and longitude, and for last show a map of the specific neighborhood with the venues marked on blue."
        },
        {
            "cell_type": "markdown",
            "metadata": {},
            "source": "### Methodology"
        },
        {
            "cell_type": "markdown",
            "metadata": {},
            "source": "At first, to check the need of a plataform tho choose where to stay in Sao Paulo, the **geolocator/geocode** function were used to get the geograpical coordinate of S\u00e3o Paulo City. With these data, it was possible to create a map of Sao Paulo city using **folium**, so we can see the city lenght, huge number of neighborhoods and possibilities on finding a place to stay.\n\nAfter that we can start exploring an specific neighborhood to see what are the main venues around there. To find the neighborhood latitude and longitude (which are input data for the plataform to do its venue exploration) a Google Search can be easily done, and then all there is to do is paste the data into the inputs area.\n\nWith the latitude, longitude and neighborhood name, it is possible to use Foursquare API to find a number of venues around that specific geographical coordinate. As this plataform is directed to people who are not going to stay a long time in the city, it was chosen to retrieve the top 5 venues around 500 meters from the coordinates. \n\n\n"
        },
        {
            "cell_type": "markdown",
            "metadata": {},
            "source": "### Results"
        },
        {
            "cell_type": "markdown",
            "metadata": {},
            "source": "The neighborhood chosen as a test to the plataform was 'Higienopolis'. The latitude and longitude from Higienopolis were found in Google and used as inputs to the analysis. Fuursquare API was used to retrieve Top 5 Venues in the neighborhood, those places were: \"Complexo Esportivo do Pacaembu, Black'n Load, Shiatsu Luiza Sato, Museu do Futebol and \tVico - Gelato Artigianale\".\n\nAfter retrieving the data, the data was be converted from a json format to a pandas dataframe, easier to manipulate. After that was possible to create another map, but now zoomed into the Higienopolis neighborhood with blue dots for each one of the top 5 venues retrieved from the Foursquare API.\n\n"
        },
        {
            "cell_type": "markdown",
            "metadata": {},
            "source": "### Conclusion/Discussion"
        },
        {
            "cell_type": "markdown",
            "metadata": {},
            "source": "After using the plataform, the user can see what are the possibilities and the main venues in the neighborhood's surroundings. \nIn the case of Higienopolis, the user would be able to see that the main venues categories are \"Athletics & Sports, Coffee Shop, Spa, Museum and Ice Cream Shop\". We have 5 different categories in that dataset, what shows us that there is a big variety of things to do aroung the Higienopolis neighborhood and it can be useful for people with different tastes."
        },
        {
            "cell_type": "code",
            "execution_count": null,
            "metadata": {},
            "outputs": [],
            "source": ""
        }
    ],
    "metadata": {
        "kernelspec": {
            "display_name": "Python 3.6",
            "language": "python",
            "name": "python3"
        },
        "language_info": {
            "codemirror_mode": {
                "name": "ipython",
                "version": 3
            },
            "file_extension": ".py",
            "mimetype": "text/x-python",
            "name": "python",
            "nbconvert_exporter": "python",
            "pygments_lexer": "ipython3",
            "version": "3.6.9"
        }
    },
    "nbformat": 4,
    "nbformat_minor": 1
}