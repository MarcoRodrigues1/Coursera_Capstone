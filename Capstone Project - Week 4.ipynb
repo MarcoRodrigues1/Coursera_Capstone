{
    "cells": [
        {
            "cell_type": "markdown",
            "metadata": {
                "collapsed": true
            },
            "source": "## Finding Top Venues around the neighborhoods of S\u00e3o Paulo"
        },
        {
            "cell_type": "markdown",
            "metadata": {},
            "source": "### Introduction"
        },
        {
            "cell_type": "markdown",
            "metadata": {},
            "source": "Sao Paulo city is the is the cultural and economic center of Brazil. It is also the largest city in South America and in the southern hemisphere. That\u2019s why finding reasonable accommodation in S\u00e3o Paulo can be daunting.\n\nBecause of that characteristics, Sao Paulo receives a lot of tourists, business men and women, studants, backpackers and etc. With all the possibilities, a question all these people ask themselves before going to Sao Paulo is: where to stay?\nIf you check online, there are several web sites and articles about the cities neigborhoods, the pro and cons about each one of them, but there is so much information that is really hard to make a decision, and once the decision is made, is really hardo to decide what to do during the staying in the city.\n\nThinking about that, a plataform where you can retrieve the main venues around each neighborhood in the city can be very helpful for people who are already in the city and don't know exactly what to do in its surroundings, and for people who are attempting to stay a while in the metropolis."
        },
        {
            "cell_type": "markdown",
            "metadata": {},
            "source": "### Data"
        },
        {
            "cell_type": "markdown",
            "metadata": {},
            "source": "To solve this particular issue, a plataform can be built using data from Sao Paulo neighborhoods (latitude and longitude data) and the Foursquare API. First, we need to know what neighborhood is the target for the query. After that, using Google we can easily find the neighborhoods latitude and longitude data. \n\nWith the latitude and longitude data from a particular place, the plataform will automatically find the place in Foursquare, build a dataframe with the venues, type, latitude and longitude, and for last show a map of the specific neighborhood with the venues marked on blue."
        }
    ],
    "metadata": {
        "kernelspec": {
            "display_name": "Python 3.6",
            "language": "python",
            "name": "python3"
        },
        "language_info": {
            "codemirror_mode": {
                "name": "ipython",
                "version": 3
            },
            "file_extension": ".py",
            "mimetype": "text/x-python",
            "name": "python",
            "nbconvert_exporter": "python",
            "pygments_lexer": "ipython3",
            "version": "3.6.9"
        }
    },
    "nbformat": 4,
    "nbformat_minor": 1
}