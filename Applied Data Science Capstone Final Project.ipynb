{
    "cells": [
        {
            "cell_type": "markdown",
            "metadata": {
                "collapsed": true
            },
            "source": "# Applied Data Science Capstone Final Project"
        },
        {
            "cell_type": "markdown",
            "metadata": {},
            "source": "#### Finding top rated venues around the neighborhoods of the city of S\u00e3o Paulo"
        },
        {
            "cell_type": "markdown",
            "metadata": {},
            "source": "Let's use geopy to get latitude and longitude values for S\u00e3o Paulo city\n"
        },
        {
            "cell_type": "code",
            "execution_count": 6,
            "metadata": {},
            "outputs": [
                {
                    "name": "stdout",
                    "output_type": "stream",
                    "text": "The geograpical coordinate of S\u00e3o Paulo City are -23.5506507, -46.6333824.\n"
                }
            ],
            "source": "address = 'S\u00e3o Paulo'\n\ngeolocator = Nominatim(user_agent=\"ny_explorer\")\nlocation = geolocator.geocode(address)\nlatitude = location.latitude\nlongitude = location.longitude\nprint('The geograpical coordinate of S\u00e3o Paulo City are {}, {}.'.format(latitude, longitude))"
        },
        {
            "cell_type": "markdown",
            "metadata": {},
            "source": "## Creating a map of S\u00e3o Paulo City:"
        },
        {
            "cell_type": "code",
            "execution_count": 7,
            "metadata": {},
            "outputs": [
                {
                    "name": "stdout",
                    "output_type": "stream",
                    "text": "Solving environment: done\n\n## Package Plan ##\n\n  environment location: /opt/conda/envs/Python36\n\n  added / updated specs: \n    - folium=0.5.0\n\n\nThe following packages will be downloaded:\n\n    package                    |            build\n    ---------------------------|-----------------\n    certifi-2020.4.5.2         |   py36h9f0ad1d_0         152 KB  conda-forge\n    branca-0.4.1               |             py_0          26 KB  conda-forge\n    openssl-1.1.1g             |       h516909a_0         2.1 MB  conda-forge\n    python_abi-3.6             |          1_cp36m           4 KB  conda-forge\n    altair-4.1.0               |             py_1         614 KB  conda-forge\n    folium-0.5.0               |             py_0          45 KB  conda-forge\n    vincent-0.4.4              |             py_1          28 KB  conda-forge\n    ca-certificates-2020.4.5.2 |       hecda079_0         147 KB  conda-forge\n    ------------------------------------------------------------\n                                           Total:         3.1 MB\n\nThe following NEW packages will be INSTALLED:\n\n    altair:          4.1.0-py_1        conda-forge\n    branca:          0.4.1-py_0        conda-forge\n    folium:          0.5.0-py_0        conda-forge\n    python_abi:      3.6-1_cp36m       conda-forge\n    vincent:         0.4.4-py_1        conda-forge\n\nThe following packages will be UPDATED:\n\n    ca-certificates: 2020.1.1-0                    --> 2020.4.5.2-hecda079_0     conda-forge\n    certifi:         2020.4.5.1-py36_0             --> 2020.4.5.2-py36h9f0ad1d_0 conda-forge\n    openssl:         1.1.1g-h7b6447c_0             --> 1.1.1g-h516909a_0         conda-forge\n\n\nDownloading and Extracting Packages\ncertifi-2020.4.5.2   | 152 KB    | ##################################### | 100% \nbranca-0.4.1         | 26 KB     | ##################################### | 100% \nopenssl-1.1.1g       | 2.1 MB    | ##################################### | 100% \npython_abi-3.6       | 4 KB      | ##################################### | 100% \naltair-4.1.0         | 614 KB    | ##################################### | 100% \nfolium-0.5.0         | 45 KB     | ##################################### | 100% \nvincent-0.4.4        | 28 KB     | ##################################### | 100% \nca-certificates-2020 | 147 KB    | ##################################### | 100% \nPreparing transaction: done\nVerifying transaction: done\nExecuting transaction: done\n"
                }
            ],
            "source": "#import Folium library\n\n!conda install -c conda-forge folium=0.5.0 --yes \nimport folium "
        },
        {
            "cell_type": "code",
            "execution_count": 15,
            "metadata": {},
            "outputs": [
                {
                    "data": {
                        "text/html": "<div style=\"width:100%;\"><div style=\"position:relative;width:100%;height:0;padding-bottom:60%;\"><span style=\"color:#565656\">Make this Notebook Trusted to load map: File -> Trust Notebook</span><iframe src=\"about:blank\" style=\"position:absolute;width:100%;height:100%;left:0;top:0;border:none !important;\" data-html=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 onload=\"this.contentDocument.open();this.contentDocument.write(atob(this.getAttribute('data-html')));this.contentDocument.close();\" allowfullscreen webkitallowfullscreen mozallowfullscreen></iframe></div></div>",
                        "text/plain": "<folium.folium.Map at 0x7f3c1042e320>"
                    },
                    "execution_count": 15,
                    "metadata": {},
                    "output_type": "execute_result"
                }
            ],
            "source": "map_saopaulo = folium.Map(location=[latitude, longitude], zoom_start=11.5)\nmap_saopaulo"
        },
        {
            "cell_type": "markdown",
            "metadata": {},
            "source": "#### As we can see, S\u00e3o Paulo is a huge metropolis and has several neighborhoods a visitor can stay. Each neighborhood has its own chacarteristics and different venues. How about creating a vuene query to retrieve the top rated venues around each region? "
        },
        {
            "cell_type": "markdown",
            "metadata": {},
            "source": "We must have the latitude and longitude of the address the visitor is staying. It's easy to do that using a Google search. We also need the number of venues our query will return and the radius around the neighborhood.\n"
        },
        {
            "cell_type": "code",
            "execution_count": 28,
            "metadata": {},
            "outputs": [
                {
                    "name": "stdout",
                    "output_type": "stream",
                    "text": "Latitude and longitude values of Higienopolis are -23.5492784, -46.6627057.\n"
                }
            ],
            "source": "#Input data:\n\nneighborhood = 'Higienopolis'\nlat = -23.5492784\nlong = -46.6627057\n\nLIMIT = 5\nradius = 500\n\nprint('Latitude and longitude values of {} are {}, {}.'.format(neighborhood, \n                                                               lat, \n                                                               long))"
        },
        {
            "cell_type": "markdown",
            "metadata": {},
            "source": "Now that's run a query using Foursquare to find the Top 5 venues around this neighborhood.\n\nFirst: define Foursquare credentials and version"
        },
        {
            "cell_type": "code",
            "execution_count": 29,
            "metadata": {},
            "outputs": [
                {
                    "name": "stdout",
                    "output_type": "stream",
                    "text": "Your credentails:\nCLIENT_ID: 0MMBNYFS4XH0KK3RPZAE41EL4AAIMFQ5XMKPRCJ5NA1PTH1T\nCLIENT_SECRET:TDVQEIG0A2HFRI5ABOVYV4ULSQZNU1E0KNXTCZ5XRO4BF5GV\n"
                }
            ],
            "source": "CLIENT_ID = '0MMBNYFS4XH0KK3RPZAE41EL4AAIMFQ5XMKPRCJ5NA1PTH1T' \nCLIENT_SECRET = 'TDVQEIG0A2HFRI5ABOVYV4ULSQZNU1E0KNXTCZ5XRO4BF5GV' \nVERSION = '20180605' \n\nprint('Your credentails:')\nprint('CLIENT_ID: ' + CLIENT_ID)\nprint('CLIENT_SECRET:' + CLIENT_SECRET)"
        },
        {
            "cell_type": "code",
            "execution_count": 30,
            "metadata": {},
            "outputs": [],
            "source": "# importing some libraries\nimport json \nimport numpy as np\n\nimport requests \nfrom pandas.io.json import json_normalize "
        },
        {
            "cell_type": "markdown",
            "metadata": {},
            "source": "#### Now, let's get the top 5 venues that are in Higienopolis within a radius of 500 meters.\n\nFirst create a get request url and then send the get request examine the results"
        },
        {
            "cell_type": "code",
            "execution_count": 32,
            "metadata": {},
            "outputs": [
                {
                    "data": {
                        "text/plain": "'https://api.foursquare.com/v2/venues/explore?client_id=0MMBNYFS4XH0KK3RPZAE41EL4AAIMFQ5XMKPRCJ5NA1PTH1T&client_secret=TDVQEIG0A2HFRI5ABOVYV4ULSQZNU1E0KNXTCZ5XRO4BF5GV&ll=-23.5492784,-46.6627057&v=20180605&radius=500&limit=5'"
                    },
                    "execution_count": 32,
                    "metadata": {},
                    "output_type": "execute_result"
                }
            ],
            "source": "url = 'https://api.foursquare.com/v2/venues/explore?client_id={}&client_secret={}&ll={},{}&v={}&radius={}&limit={}'.format(CLIENT_ID, CLIENT_SECRET, lat, long, VERSION, radius, LIMIT)\nurl"
        },
        {
            "cell_type": "code",
            "execution_count": 33,
            "metadata": {},
            "outputs": [
                {
                    "data": {
                        "text/plain": "{'meta': {'code': 200, 'requestId': '5eded3b93907e7001b18f344'},\n 'response': {'suggestedFilters': {'header': 'Tap to show:',\n   'filters': [{'name': 'Open now', 'key': 'openNow'}]},\n  'headerLocation': 'Consola\u00e7\u00e3o',\n  'headerFullLocation': 'Consola\u00e7\u00e3o, S\u00e3o Paulo',\n  'headerLocationGranularity': 'neighborhood',\n  'totalResults': 68,\n  'suggestedBounds': {'ne': {'lat': -23.544778395499993,\n    'lng': -46.65780603790154},\n   'sw': {'lat': -23.553778404500004, 'lng': -46.667605362098456}},\n  'groups': [{'type': 'Recommended Places',\n    'name': 'recommended',\n    'items': [{'reasons': {'count': 0,\n       'items': [{'summary': 'This spot is popular',\n         'type': 'general',\n         'reasonName': 'globalInteractionReason'}]},\n      'venue': {'id': '4d3db20914aa8cfa33fcb55e',\n       'name': 'Complexo Esportivo do Pacaembu',\n       'location': {'address': 'Pra\u00e7a Charles Miller, s/n\u00ba',\n        'lat': -23.55018700174617,\n        'lng': -46.66489719340717,\n        'labeledLatLngs': [{'label': 'display',\n          'lat': -23.55018700174617,\n          'lng': -46.66489719340717}],\n        'distance': 245,\n        'postalCode': '01234-010',\n        'cc': 'BR',\n        'neighborhood': 'Pacaembu',\n        'city': 'S\u00e3o Paulo',\n        'state': 'SP',\n        'country': 'Brasil',\n        'formattedAddress': ['Pra\u00e7a Charles Miller, s/n\u00ba',\n         'S\u00e3o Paulo, SP',\n         '01234-010',\n         'Brasil']},\n       'categories': [{'id': '4f4528bc4b90abdf24c9de85',\n         'name': 'Athletics & Sports',\n         'pluralName': 'Athletics & Sports',\n         'shortName': 'Athletics & Sports',\n         'icon': {'prefix': 'https://ss3.4sqi.net/img/categories_v2/shops/sports_outdoors_',\n          'suffix': '.png'},\n         'primary': True}],\n       'photos': {'count': 0, 'groups': []}},\n      'referralId': 'e-0-4d3db20914aa8cfa33fcb55e-0'},\n     {'reasons': {'count': 0,\n       'items': [{'summary': 'This spot is popular',\n         'type': 'general',\n         'reasonName': 'globalInteractionReason'}]},\n      'venue': {'id': '5b02e47c7564f7002c235e6d',\n       'name': \"Black'n Load\",\n       'location': {'address': 'Rua Bahia 843',\n        'crossStreet': 'Goi\u00e1s',\n        'lat': -23.550314286531094,\n        'lng': -46.6607049002617,\n        'labeledLatLngs': [{'label': 'display',\n          'lat': -23.550314286531094,\n          'lng': -46.6607049002617}],\n        'distance': 234,\n        'postalCode': '01244-001',\n        'cc': 'BR',\n        'neighborhood': 'Consola\u00e7\u00e3o',\n        'city': 'S\u00e3o Paulo',\n        'state': 'SP',\n        'country': 'Brasil',\n        'formattedAddress': ['Rua Bahia 843 (Goi\u00e1s)',\n         'S\u00e3o Paulo, SP',\n         '01244-001',\n         'Brasil']},\n       'categories': [{'id': '4bf58dd8d48988d1e0931735',\n         'name': 'Coffee Shop',\n         'pluralName': 'Coffee Shops',\n         'shortName': 'Coffee Shop',\n         'icon': {'prefix': 'https://ss3.4sqi.net/img/categories_v2/food/coffeeshop_',\n          'suffix': '.png'},\n         'primary': True}],\n       'photos': {'count': 0, 'groups': []}},\n      'referralId': 'e-0-5b02e47c7564f7002c235e6d-1'},\n     {'reasons': {'count': 0,\n       'items': [{'summary': 'This spot is popular',\n         'type': 'general',\n         'reasonName': 'globalInteractionReason'}]},\n      'venue': {'id': '4bfdaaa5e529c9285047bb8c',\n       'name': 'Shiatsu Luiza Sato',\n       'location': {'address': 'R. Goi\u00e1s, 121',\n        'lat': -23.55013919758043,\n        'lng': -46.661123693576826,\n        'labeledLatLngs': [{'label': 'display',\n          'lat': -23.55013919758043,\n          'lng': -46.661123693576826}],\n        'distance': 187,\n        'postalCode': '01244-030',\n        'cc': 'BR',\n        'neighborhood': 'Consola\u00e7\u00e3o',\n        'city': 'S\u00e3o Paulo',\n        'state': 'SP',\n        'country': 'Brasil',\n        'formattedAddress': ['R. Goi\u00e1s, 121',\n         'S\u00e3o Paulo, SP',\n         '01244-030',\n         'Brasil']},\n       'categories': [{'id': '4bf58dd8d48988d1ed941735',\n         'name': 'Spa',\n         'pluralName': 'Spas',\n         'shortName': 'Spa',\n         'icon': {'prefix': 'https://ss3.4sqi.net/img/categories_v2/shops/spa_',\n          'suffix': '.png'},\n         'primary': True}],\n       'photos': {'count': 0, 'groups': []}},\n      'referralId': 'e-0-4bfdaaa5e529c9285047bb8c-2'},\n     {'reasons': {'count': 0,\n       'items': [{'summary': 'This spot is popular',\n         'type': 'general',\n         'reasonName': 'globalInteractionReason'}]},\n      'venue': {'id': '4b1d58eaf964a5202b0f24e3',\n       'name': 'Museu do Futebol',\n       'location': {'address': 'Est\u00e1dio Municipal Paulo Machado de Carvalho',\n        'lat': -23.547604027401,\n        'lng': -46.66485327803758,\n        'labeledLatLngs': [{'label': 'display',\n          'lat': -23.547604027401,\n          'lng': -46.66485327803758}],\n        'distance': 287,\n        'postalCode': '01234-900',\n        'cc': 'BR',\n        'city': 'S\u00e3o Paulo',\n        'state': 'SP',\n        'country': 'Brasil',\n        'formattedAddress': ['Est\u00e1dio Municipal Paulo Machado de Carvalho',\n         'S\u00e3o Paulo, SP',\n         '01234-900',\n         'Brasil']},\n       'categories': [{'id': '4bf58dd8d48988d181941735',\n         'name': 'Museum',\n         'pluralName': 'Museums',\n         'shortName': 'Museum',\n         'icon': {'prefix': 'https://ss3.4sqi.net/img/categories_v2/arts_entertainment/museum_',\n          'suffix': '.png'},\n         'primary': True}],\n       'photos': {'count': 0, 'groups': []}},\n      'referralId': 'e-0-4b1d58eaf964a5202b0f24e3-3'},\n     {'reasons': {'count': 0,\n       'items': [{'summary': 'This spot is popular',\n         'type': 'general',\n         'reasonName': 'globalInteractionReason'}]},\n      'venue': {'id': '5af0812a9411f2002c9240d9',\n       'name': 'Vico - Gelato Artigianale',\n       'location': {'address': 'Rua Goi\u00e1s, 47',\n        'lat': -23.550245,\n        'lng': -46.660473,\n        'labeledLatLngs': [{'label': 'display',\n          'lat': -23.550245,\n          'lng': -46.660473}],\n        'distance': 251,\n        'postalCode': '01244-030',\n        'cc': 'BR',\n        'city': 'S\u00e3o Paulo',\n        'state': 'SP',\n        'country': 'Brasil',\n        'formattedAddress': ['Rua Goi\u00e1s, 47',\n         'S\u00e3o Paulo, SP',\n         '01244-030',\n         'Brasil']},\n       'categories': [{'id': '4bf58dd8d48988d1c9941735',\n         'name': 'Ice Cream Shop',\n         'pluralName': 'Ice Cream Shops',\n         'shortName': 'Ice Cream',\n         'icon': {'prefix': 'https://ss3.4sqi.net/img/categories_v2/food/icecream_',\n          'suffix': '.png'},\n         'primary': True}],\n       'photos': {'count': 0, 'groups': []}},\n      'referralId': 'e-0-5af0812a9411f2002c9240d9-4'}]}]}}"
                    },
                    "execution_count": 33,
                    "metadata": {},
                    "output_type": "execute_result"
                }
            ],
            "source": "results = requests.get(url).json()\nresults"
        },
        {
            "cell_type": "code",
            "execution_count": 34,
            "metadata": {},
            "outputs": [],
            "source": "# function that extracts the category of the venue\ndef get_category_type(row):\n    try:\n        categories_list = row['categories']\n    except:\n        categories_list = row['venue.categories']\n        \n    if len(categories_list) == 0:\n        return None\n    else:\n        return categories_list[0]['name']"
        },
        {
            "cell_type": "markdown",
            "metadata": {},
            "source": "Now we are ready to clean the json and structure it into a *pandas* dataframe."
        },
        {
            "cell_type": "code",
            "execution_count": 35,
            "metadata": {},
            "outputs": [
                {
                    "data": {
                        "text/html": "<div>\n<style scoped>\n    .dataframe tbody tr th:only-of-type {\n        vertical-align: middle;\n    }\n\n    .dataframe tbody tr th {\n        vertical-align: top;\n    }\n\n    .dataframe thead th {\n        text-align: right;\n    }\n</style>\n<table border=\"1\" class=\"dataframe\">\n  <thead>\n    <tr style=\"text-align: right;\">\n      <th></th>\n      <th>name</th>\n      <th>categories</th>\n      <th>lat</th>\n      <th>lng</th>\n    </tr>\n  </thead>\n  <tbody>\n    <tr>\n      <th>0</th>\n      <td>Complexo Esportivo do Pacaembu</td>\n      <td>Athletics &amp; Sports</td>\n      <td>-23.550187</td>\n      <td>-46.664897</td>\n    </tr>\n    <tr>\n      <th>1</th>\n      <td>Black'n Load</td>\n      <td>Coffee Shop</td>\n      <td>-23.550314</td>\n      <td>-46.660705</td>\n    </tr>\n    <tr>\n      <th>2</th>\n      <td>Shiatsu Luiza Sato</td>\n      <td>Spa</td>\n      <td>-23.550139</td>\n      <td>-46.661124</td>\n    </tr>\n    <tr>\n      <th>3</th>\n      <td>Museu do Futebol</td>\n      <td>Museum</td>\n      <td>-23.547604</td>\n      <td>-46.664853</td>\n    </tr>\n    <tr>\n      <th>4</th>\n      <td>Vico - Gelato Artigianale</td>\n      <td>Ice Cream Shop</td>\n      <td>-23.550245</td>\n      <td>-46.660473</td>\n    </tr>\n  </tbody>\n</table>\n</div>",
                        "text/plain": "                             name          categories        lat        lng\n0  Complexo Esportivo do Pacaembu  Athletics & Sports -23.550187 -46.664897\n1                    Black'n Load         Coffee Shop -23.550314 -46.660705\n2              Shiatsu Luiza Sato                 Spa -23.550139 -46.661124\n3                Museu do Futebol              Museum -23.547604 -46.664853\n4       Vico - Gelato Artigianale      Ice Cream Shop -23.550245 -46.660473"
                    },
                    "execution_count": 35,
                    "metadata": {},
                    "output_type": "execute_result"
                }
            ],
            "source": "venues = results['response']['groups'][0]['items']\n    \nnearby_venues = json_normalize(venues) # flatten JSON\n\n# filter columns\nfiltered_columns = ['venue.name', 'venue.categories', 'venue.location.lat', 'venue.location.lng']\nnearby_venues =nearby_venues.loc[:, filtered_columns]\n\n# filter the category for each row\nnearby_venues['venue.categories'] = nearby_venues.apply(get_category_type, axis=1)\n\n# clean columns\nnearby_venues.columns = [col.split(\".\")[-1] for col in nearby_venues.columns]\n\nnearby_venues.head()"
        },
        {
            "cell_type": "code",
            "execution_count": 36,
            "metadata": {},
            "outputs": [
                {
                    "name": "stdout",
                    "output_type": "stream",
                    "text": "5 venues were returned by Foursquare.\n"
                }
            ],
            "source": "print('{} venues were returned by Foursquare.'.format(nearby_venues.shape[0]))"
        },
        {
            "cell_type": "code",
            "execution_count": 38,
            "metadata": {},
            "outputs": [
                {
                    "data": {
                        "text/html": "<div>\n<style scoped>\n    .dataframe tbody tr th:only-of-type {\n        vertical-align: middle;\n    }\n\n    .dataframe tbody tr th {\n        vertical-align: top;\n    }\n\n    .dataframe thead th {\n        text-align: right;\n    }\n</style>\n<table border=\"1\" class=\"dataframe\">\n  <thead>\n    <tr style=\"text-align: right;\">\n      <th></th>\n      <th>Venue</th>\n      <th>Category</th>\n      <th>Latitude</th>\n      <th>Longitude</th>\n    </tr>\n  </thead>\n  <tbody>\n    <tr>\n      <th>0</th>\n      <td>Complexo Esportivo do Pacaembu</td>\n      <td>Athletics &amp; Sports</td>\n      <td>-23.550187</td>\n      <td>-46.664897</td>\n    </tr>\n    <tr>\n      <th>1</th>\n      <td>Black'n Load</td>\n      <td>Coffee Shop</td>\n      <td>-23.550314</td>\n      <td>-46.660705</td>\n    </tr>\n    <tr>\n      <th>2</th>\n      <td>Shiatsu Luiza Sato</td>\n      <td>Spa</td>\n      <td>-23.550139</td>\n      <td>-46.661124</td>\n    </tr>\n    <tr>\n      <th>3</th>\n      <td>Museu do Futebol</td>\n      <td>Museum</td>\n      <td>-23.547604</td>\n      <td>-46.664853</td>\n    </tr>\n    <tr>\n      <th>4</th>\n      <td>Vico - Gelato Artigianale</td>\n      <td>Ice Cream Shop</td>\n      <td>-23.550245</td>\n      <td>-46.660473</td>\n    </tr>\n  </tbody>\n</table>\n</div>",
                        "text/plain": "                            Venue            Category   Latitude  Longitude\n0  Complexo Esportivo do Pacaembu  Athletics & Sports -23.550187 -46.664897\n1                    Black'n Load         Coffee Shop -23.550314 -46.660705\n2              Shiatsu Luiza Sato                 Spa -23.550139 -46.661124\n3                Museu do Futebol              Museum -23.547604 -46.664853\n4       Vico - Gelato Artigianale      Ice Cream Shop -23.550245 -46.660473"
                    },
                    "execution_count": 38,
                    "metadata": {},
                    "output_type": "execute_result"
                }
            ],
            "source": "nearby_venues.rename(columns={'name': 'Venue'}, inplace = True)\nnearby_venues.rename(columns={'categories': 'Category'}, inplace = True)\nnearby_venues.rename(columns={'lat': 'Latitude'}, inplace = True)\nnearby_venues.rename(columns={'lng': 'Longitude'}, inplace = True)\nnearby_venues"
        },
        {
            "cell_type": "markdown",
            "metadata": {},
            "source": "#### Now let's create a map with the neighborhood and the venues"
        },
        {
            "cell_type": "code",
            "execution_count": 44,
            "metadata": {},
            "outputs": [
                {
                    "data": {
                        "text/html": "<div style=\"width:100%;\"><div style=\"position:relative;width:100%;height:0;padding-bottom:60%;\"><span style=\"color:#565656\">Make this Notebook Trusted to load map: File -> Trust Notebook</span><iframe src=\"about:blank\" style=\"position:absolute;width:100%;height:100%;left:0;top:0;border:none !important;\" data-html=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 onload=\"this.contentDocument.open();this.contentDocument.write(atob(this.getAttribute('data-html')));this.contentDocument.close();\" allowfullscreen webkitallowfullscreen mozallowfullscreen></iframe></div></div>",
                        "text/plain": "<folium.folium.Map at 0x7f3c0ff5ed30>"
                    },
                    "execution_count": 44,
                    "metadata": {},
                    "output_type": "execute_result"
                }
            ],
            "source": "# create map of Higienopolis using latitude and longitude values\nmap_higienopolis = folium.Map(location=[lat, long], zoom_start=14.5)\n\n# add markers to map\nfor lati, lng, label in zip(nearby_venues['Latitude'], nearby_venues['Longitude'], nearby_venues['Venue']):\n    label = folium.Popup(label, parse_html=True)\n    folium.CircleMarker(\n        [lat, lng],\n        radius=5,\n        popup=label,\n        color='blue',\n        fill=True,\n        fill_color='#3186cc',\n        fill_opacity=0.7,\n        parse_html=False).add_to(map_higienopolis)  \n    \nmap_higienopolis"
        },
        {
            "cell_type": "markdown",
            "metadata": {},
            "source": "So that's it. Now a visitor can have idea about the Top 5 venues around the neighborhood he or she is staying at."
        },
        {
            "cell_type": "code",
            "execution_count": null,
            "metadata": {},
            "outputs": [],
            "source": ""
        }
    ],
    "metadata": {
        "kernelspec": {
            "display_name": "Python 3.6",
            "language": "python",
            "name": "python3"
        },
        "language_info": {
            "codemirror_mode": {
                "name": "ipython",
                "version": 3
            },
            "file_extension": ".py",
            "mimetype": "text/x-python",
            "name": "python",
            "nbconvert_exporter": "python",
            "pygments_lexer": "ipython3",
            "version": "3.6.9"
        }
    },
    "nbformat": 4,
    "nbformat_minor": 1
}